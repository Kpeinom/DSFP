{
 "cells": [
  {
   "cell_type": "markdown",
   "id": "dff29e46",
   "metadata": {},
   "source": [
    "## Welcome to my first Jupyter notebook"
   ]
  },
  {
   "cell_type": "markdown",
   "id": "4b5c53ea",
   "metadata": {},
   "source": [
    "## Numbered List\n",
    "1. Hope.\n",
    "2. Faiza.\n",
    "3. Miriam.\n",
    "\n",
    "## Bulleted List\n",
    "- Aunty Zee.\n",
    "- Fatee.\n",
    "- Hakeem.\n"
   ]
  },
  {
   "cell_type": "code",
   "execution_count": 1,
   "id": "d4ddc9eb",
   "metadata": {},
   "outputs": [
    {
     "name": "stdout",
     "output_type": "stream",
     "text": [
      "Hello, World!\n"
     ]
    }
   ],
   "source": [
    "print(\"Hello, World!\")\n"
   ]
  },
  {
   "cell_type": "code",
   "execution_count": 11,
   "id": "687c9cd1",
   "metadata": {},
   "outputs": [],
   "source": [
    "## Adding an Image or hyperlink\n",
    "!(\"C:\\Users\\User\\Pictures\\image\\5a98663b1dfddf86aa6694edf4b5b8af.jpg\")\n"
   ]
  },
  {
   "cell_type": "markdown",
   "id": "5e4196aa",
   "metadata": {},
   "source": [
    "[Visit datacamp Website](https://www.datacamp.com/)"
   ]
  },
  {
   "cell_type": "code",
   "execution_count": 9,
   "id": "facca820",
   "metadata": {},
   "outputs": [
    {
     "name": "stdout",
     "output_type": "stream",
     "text": [
      "Addition: 15\n",
      "Subtraction: 5\n"
     ]
    }
   ],
   "source": [
    "# Perform addition and subtraction\n",
    "a = 10\n",
    "b = 5\n",
    "\n",
    "# Addition\n",
    "addition = a + b\n",
    "print(\"Addition:\", addition)\n",
    "\n",
    "# Subtraction\n",
    "subtraction = a - b\n",
    "print(\"Subtraction:\", subtraction)\n"
   ]
  },
  {
   "cell_type": "code",
   "execution_count": 10,
   "id": "afb8269d",
   "metadata": {},
   "outputs": [
    {
     "name": "stdout",
     "output_type": "stream",
     "text": [
      "Help on built-in function print in module builtins:\n",
      "\n",
      "print(...)\n",
      "    print(value, ..., sep=' ', end='\\n', file=sys.stdout, flush=False)\n",
      "    \n",
      "    Prints the values to a stream, or to sys.stdout by default.\n",
      "    Optional keyword arguments:\n",
      "    file:  a file-like object (stream); defaults to the current sys.stdout.\n",
      "    sep:   string inserted between values, default a space.\n",
      "    end:   string appended after the last value, default a newline.\n",
      "    flush: whether to forcibly flush the stream.\n",
      "\n"
     ]
    }
   ],
   "source": [
    "# Get documentation for the print() function\n",
    "help(print)\n"
   ]
  },
  {
   "cell_type": "markdown",
   "id": "45efd8a9",
   "metadata": {},
   "source": [
    "## Personal Information Table\n",
    "\n",
    "| Name         | Age | Profession   |\n",
    "|--------------|-----|--------------|\n",
    "| Hope Bako    | 25  | Data Analyst |\n"
   ]
  },
  {
   "cell_type": "markdown",
   "id": "0fd3fc62",
   "metadata": {},
   "source": [
    "## 2. Data types in Python"
   ]
  },
  {
   "cell_type": "code",
   "execution_count": 14,
   "id": "6be9afb6",
   "metadata": {},
   "outputs": [
    {
     "name": "stdout",
     "output_type": "stream",
     "text": [
      "<class 'int'>\n",
      "<class 'float'>\n",
      "<class 'str'>\n",
      "<class 'list'>\n",
      "<class 'dict'>\n"
     ]
    }
   ],
   "source": [
    "# Values and their data types\n",
    "print(type(42))                  \n",
    "print(type(3.14))                \n",
    "print(type(\"Python\"))            \n",
    "print(type([1, 2, 3]))           \n",
    "print(type({\"name\": \"John\", \"age\": 30}))  \n"
   ]
  },
  {
   "cell_type": "code",
   "execution_count": 15,
   "id": "e8002a38",
   "metadata": {},
   "outputs": [
    {
     "name": "stdout",
     "output_type": "stream",
     "text": [
      "42.0\n",
      "42\n"
     ]
    }
   ],
   "source": [
    "# Converting integer to float and string\n",
    "num = 42\n",
    "float_num = float(num)\n",
    "string_num = str(num)\n",
    "\n",
    "print(float_num)  \n",
    "print(string_num)\n"
   ]
  },
  {
   "cell_type": "code",
   "execution_count": 16,
   "id": "eeb35809",
   "metadata": {},
   "outputs": [
    {
     "name": "stdout",
     "output_type": "stream",
     "text": [
      "<class 'list'>\n"
     ]
    }
   ],
   "source": [
    "# List of favorite fruits\n",
    "fruits = [\"Coconut\", \"Peach\", \"Watermelon\", \"Date\", \"Orange\"]\n",
    "print(type(fruits))  \n"
   ]
  },
  {
   "cell_type": "code",
   "execution_count": 22,
   "id": "4179e93a",
   "metadata": {},
   "outputs": [
    {
     "name": "stdout",
     "output_type": "stream",
     "text": [
      "<class 'str'>\n"
     ]
    }
   ],
   "source": [
    "# Checking if a variable is a string\n",
    "print(type(\"Hello, World!\"))"
   ]
  },
  {
   "cell_type": "code",
   "execution_count": 28,
   "id": "43131831",
   "metadata": {},
   "outputs": [
    {
     "name": "stdout",
     "output_type": "stream",
     "text": [
      "Python\n"
     ]
    }
   ],
   "source": [
    "# Tuple with different data types\n",
    "my_tuple = (42, \"Python\", 3.14)\n",
    "print(my_tuple[1])  \n"
   ]
  },
  {
   "cell_type": "code",
   "execution_count": 29,
   "id": "f85a0244",
   "metadata": {},
   "outputs": [
    {
     "name": "stdout",
     "output_type": "stream",
     "text": [
      "Kaduna\n"
     ]
    }
   ],
   "source": [
    "# Dictionary with key-value pairs\n",
    "person = {\"name\": \"Alice\", \"age\": 25, \"city\": \"Kaduna\"}\n",
    "print(person[\"city\"])  # \"Kaduna\"\n"
   ]
  },
  {
   "cell_type": "code",
   "execution_count": 30,
   "id": "6f4a732a",
   "metadata": {},
   "outputs": [
    {
     "name": "stdout",
     "output_type": "stream",
     "text": [
      "<class 'int'>\n",
      "<class 'float'>\n",
      "<class 'str'>\n"
     ]
    }
   ],
   "source": [
    "# Example variables\n",
    "a = 10\n",
    "b = 3.14\n",
    "c = \"Data Science\"\n",
    "\n",
    "# Checking data types\n",
    "print(type(a)) \n",
    "print(type(b))  \n",
    "print(type(c))  \n"
   ]
  },
  {
   "cell_type": "code",
   "execution_count": 31,
   "id": "aaec955c",
   "metadata": {},
   "outputs": [
    {
     "name": "stdout",
     "output_type": "stream",
     "text": [
      "Original float: 7.89\n",
      "After typecasting to int: 7\n"
     ]
    }
   ],
   "source": [
    "# Typecasting float to integer\n",
    "float_num = 7.89\n",
    "int_num = int(float_num)\n",
    "\n",
    "print(\"Original float:\", float_num) \n",
    "print(\"After typecasting to int:\", int_num)  \n"
   ]
  },
  {
   "cell_type": "code",
   "execution_count": 1,
   "id": "9c74fe5d",
   "metadata": {},
   "outputs": [
    {
     "name": "stdout",
     "output_type": "stream",
     "text": [
      "Enter something: My name is Hope\n",
      "The input is a string.\n"
     ]
    }
   ],
   "source": [
    "# Checking input type\n",
    "user_input = input(\"Enter something: \")\n",
    "\n",
    "if user_input.isdigit():\n",
    "    print(\"The input is a number.\")\n",
    "else:\n",
    "    print(\"The input is a string.\")\n"
   ]
  },
  {
   "cell_type": "code",
   "execution_count": 3,
   "id": "68d5e168",
   "metadata": {},
   "outputs": [
    {
     "name": "stdout",
     "output_type": "stream",
     "text": [
      "Length of list: 5\n",
      "Length of tuple: 3\n",
      "Length of dictionary: 3\n"
     ]
    }
   ],
   "source": [
    "#Example data structures\n",
    "my_list = [1, 2, 3, 4, 5]\n",
    "my_tuple = (\"a\", \"b\", \"c\")\n",
    "my_dict = {\"name\": \"John\", \"age\" : 30, \"city\": \"Kaduna\"}\n",
    "\n",
    "# Calculating lengths\n",
    "print(\"Length of list:\", len(my_list))  \n",
    "print(\"Length of tuple:\", len(my_tuple))  \n",
    "print(\"Length of dictionary:\", len(my_dict))  \n"
   ]
  },
  {
   "cell_type": "markdown",
   "id": "083314a6",
   "metadata": {},
   "source": [
    "## Day 2"
   ]
  },
  {
   "cell_type": "code",
   "execution_count": 5,
   "id": "ff956d69",
   "metadata": {},
   "outputs": [
    {
     "name": "stdout",
     "output_type": "stream",
     "text": [
      "Hello Python\n"
     ]
    }
   ],
   "source": [
    "# Concatenate \"Hello\" and \"Python\"\n",
    "greeting = \"Hello\" + \" \" + \"Python\"\n",
    "print(greeting)\n"
   ]
  },
  {
   "cell_type": "code",
   "execution_count": 6,
   "id": "134bcc91",
   "metadata": {},
   "outputs": [
    {
     "name": "stdout",
     "output_type": "stream",
     "text": [
      "24\n"
     ]
    }
   ],
   "source": [
    "# Calculate the length of the string\n",
    "text = \"Learn to code in Python!\"\n",
    "print(len(text))\n"
   ]
  },
  {
   "cell_type": "code",
   "execution_count": 7,
   "id": "b72afd87",
   "metadata": {},
   "outputs": [
    {
     "name": "stdout",
     "output_type": "stream",
     "text": [
      "Program\n"
     ]
    }
   ],
   "source": [
    "# Extract substring \"Program\" from \"Python Programming\"\n",
    "full_text = \"Python Programming\"\n",
    "substring = full_text[7:14]\n",
    "print(substring)"
   ]
  },
  {
   "cell_type": "code",
   "execution_count": 8,
   "id": "70a9098e",
   "metadata": {},
   "outputs": [
    {
     "name": "stdout",
     "output_type": "stream",
     "text": [
      "PYTHON ROCKS!\n"
     ]
    }
   ],
   "source": [
    "# Change case of the string\n",
    "text = \"Python Rocks!\"\n",
    "print(text.upper())"
   ]
  },
  {
   "cell_type": "code",
   "execution_count": 9,
   "id": "65192ddc",
   "metadata": {},
   "outputs": [
    {
     "name": "stdout",
     "output_type": "stream",
     "text": [
      "python rocks!\n"
     ]
    }
   ],
   "source": [
    "print(text.lower())      "
   ]
  },
  {
   "cell_type": "code",
   "execution_count": 10,
   "id": "11cb2974",
   "metadata": {},
   "outputs": [
    {
     "name": "stdout",
     "output_type": "stream",
     "text": [
      "Python Rocks!\n"
     ]
    }
   ],
   "source": [
    "print(text.title()) "
   ]
  },
  {
   "cell_type": "code",
   "execution_count": 11,
   "id": "b0a1b84b",
   "metadata": {},
   "outputs": [
    {
     "name": "stdout",
     "output_type": "stream",
     "text": [
      "Python is not good\n"
     ]
    }
   ],
   "source": [
    "# Replace \"bad\" with \"good\"\n",
    "sentence = \"Python is not bad\"\n",
    "updated_sentence = sentence.replace(\"bad\", \"good\")\n",
    "print(updated_sentence)\n"
   ]
  },
  {
   "cell_type": "code",
   "execution_count": 12,
   "id": "26581857",
   "metadata": {},
   "outputs": [
    {
     "name": "stdout",
     "output_type": "stream",
     "text": [
      "Substring not found.\n"
     ]
    }
   ],
   "source": [
    "# Check if \"code\" exists in the string\n",
    "text = \"Coding is fun with Python\"\n",
    "if \"code\" in text.lower():\n",
    "    print(\"Substring found!\") \n",
    "else:\n",
    "    print(\"Substring not found.\")\n"
   ]
  },
  {
   "cell_type": "code",
   "execution_count": 15,
   "id": "81d3dec5",
   "metadata": {},
   "outputs": [
    {
     "name": "stdout",
     "output_type": "stream",
     "text": [
      "nohtyP\n"
     ]
    }
   ],
   "source": [
    "# Reverse the string \"Python\"\n",
    "word = \"Python\"\n",
    "reversed_word = word[::-1]\n",
    "print(reversed_word)\n"
   ]
  },
  {
   "cell_type": "code",
   "execution_count": 20,
   "id": "bd98a11a",
   "metadata": {},
   "outputs": [
    {
     "name": "stdout",
     "output_type": "stream",
     "text": [
      "['Learn', 'Python', 'the', 'easy', 'way']\n"
     ]
    }
   ],
   "source": [
    "# Split and join the string\n",
    "sentence = \"Learn Python the easy way\"\n",
    "words = sentence.split()  \n",
    "print(words)"
   ]
  },
  {
   "cell_type": "code",
   "execution_count": 21,
   "id": "15bad33c",
   "metadata": {},
   "outputs": [
    {
     "name": "stdout",
     "output_type": "stream",
     "text": [
      "['Learn', 'Python', 'the', 'easy', 'way']\n",
      "Learn-Python-the-easy-way\n"
     ]
    }
   ],
   "source": [
    "joined_sentence = \"-\".join(words)  \n",
    "print(words)             \n",
    "print(joined_sentence)   "
   ]
  },
  {
   "cell_type": "code",
   "execution_count": 22,
   "id": "d22555fd",
   "metadata": {},
   "outputs": [
    {
     "name": "stdout",
     "output_type": "stream",
     "text": [
      "6\n"
     ]
    }
   ],
   "source": [
    "# Count occurrences of 'a' in the string\n",
    "text = \"banana apple avocado\"\n",
    "count_a = text.count('a')\n",
    "print(count_a)"
   ]
  },
  {
   "cell_type": "code",
   "execution_count": 23,
   "id": "c894b887",
   "metadata": {},
   "outputs": [
    {
     "name": "stdout",
     "output_type": "stream",
     "text": [
      "I scored 95 in Python, which is awesome!\n"
     ]
    }
   ],
   "source": [
    "# Use f-strings for formatting\n",
    "score = 95\n",
    "language = \"Python\"\n",
    "comment = \"awesome\"\n",
    "formatted_text = f\"I scored {score} in {language}, which is {comment}!\"\n",
    "print(formatted_text) \n"
   ]
  },
  {
   "cell_type": "markdown",
   "id": "7a20edc3",
   "metadata": {},
   "source": [
    "## List/Tuples"
   ]
  },
  {
   "cell_type": "code",
   "execution_count": 24,
   "id": "b960e22d",
   "metadata": {},
   "outputs": [
    {
     "name": "stdout",
     "output_type": "stream",
     "text": [
      "First item: apple\n",
      "Last item: elderberry\n"
     ]
    }
   ],
   "source": [
    "# Create the list and print the first and last items\n",
    "fruits = [\"apple\", \"banana\", \"cherry\", \"date\", \"elderberry\"]\n",
    "print(\"First item:\", fruits[0])  \n",
    "print(\"Last item:\", fruits[-1]) "
   ]
  },
  {
   "cell_type": "code",
   "execution_count": 25,
   "id": "28c380b4",
   "metadata": {},
   "outputs": [
    {
     "name": "stdout",
     "output_type": "stream",
     "text": [
      "['apple', 'blueberry', 'date', 'elderberry', 'fig']\n"
     ]
    }
   ],
   "source": [
    "# Modify the list\n",
    "fruits.append(\"fig\")             \n",
    "fruits.remove(\"cherry\")          \n",
    "fruits[1] = \"blueberry\"          \n",
    "print(fruits) "
   ]
  },
  {
   "cell_type": "code",
   "execution_count": 26,
   "id": "c5f35629",
   "metadata": {},
   "outputs": [
    {
     "name": "stdout",
     "output_type": "stream",
     "text": [
      "Sorted list: ['apple', 'blueberry', 'date', 'elderberry', 'fig']\n",
      "Reversed list: ['fig', 'elderberry', 'date', 'blueberry', 'apple']\n"
     ]
    }
   ],
   "source": [
    "# Sort and reverse the list\n",
    "fruits.sort()                    \n",
    "print(\"Sorted list:\", fruits)\n",
    "fruits.reverse()                 \n",
    "print(\"Reversed list:\", fruits)"
   ]
  },
  {
   "cell_type": "code",
   "execution_count": 27,
   "id": "b8e1fa6c",
   "metadata": {},
   "outputs": [
    {
     "name": "stdout",
     "output_type": "stream",
     "text": [
      "['Python', 'Java', 'C++']\n"
     ]
    }
   ],
   "source": [
    "# Extract the first three languages\n",
    "languages = [\"Python\", \"Java\", \"C++\", \"Ruby\", \"Go\"]\n",
    "first_three = languages[:3]\n",
    "print(first_three) \n"
   ]
  },
  {
   "cell_type": "code",
   "execution_count": 28,
   "id": "ca630a4a",
   "metadata": {},
   "outputs": [
    {
     "name": "stdout",
     "output_type": "stream",
     "text": [
      "Sum of numbers: 150\n"
     ]
    }
   ],
   "source": [
    "# Calculate the sum of numbers\n",
    "numbers = [10, 20, 30, 40, 50]\n",
    "total = sum(numbers)\n",
    "print(\"Sum of numbers:\", total) "
   ]
  },
  {
   "cell_type": "code",
   "execution_count": 29,
   "id": "7c588d33",
   "metadata": {},
   "outputs": [
    {
     "name": "stdout",
     "output_type": "stream",
     "text": [
      "Max value: 45\n",
      "Min value: 5\n"
     ]
    }
   ],
   "source": [
    "# Create a tuple and find max and min values\n",
    "numbers_tuple = (5, 15, 25, 35, 45)\n",
    "print(\"Max value:\", max(numbers_tuple)) \n",
    "print(\"Min value:\", min(numbers_tuple)) \n"
   ]
  },
  {
   "cell_type": "code",
   "execution_count": 30,
   "id": "709558d0",
   "metadata": {},
   "outputs": [
    {
     "name": "stdout",
     "output_type": "stream",
     "text": [
      "('red', 'green', 'blue')\n"
     ]
    }
   ],
   "source": [
    "# Convert list to tuple\n",
    "colors = [\"red\", \"green\", \"blue\"]\n",
    "colors_tuple = tuple(colors)\n",
    "print(colors_tuple)  "
   ]
  },
  {
   "cell_type": "code",
   "execution_count": 31,
   "id": "3423d2ba",
   "metadata": {},
   "outputs": [
    {
     "name": "stdout",
     "output_type": "stream",
     "text": [
      "1 2 3\n"
     ]
    }
   ],
   "source": [
    "# Unpack tuple into variables\n",
    "tuple_values = (1, 2, 3)\n",
    "a, b, c = tuple_values\n",
    "print(a, b, c)"
   ]
  },
  {
   "cell_type": "code",
   "execution_count": 32,
   "id": "0195bf76",
   "metadata": {},
   "outputs": [
    {
     "name": "stdout",
     "output_type": "stream",
     "text": [
      "[1, 4, 9, 16, 25, 36, 49, 64, 81, 100]\n"
     ]
    }
   ],
   "source": [
    "# Create a list of squares\n",
    "squares = [x**2 for x in range(1, 11)]\n",
    "print(squares)"
   ]
  },
  {
   "cell_type": "code",
   "execution_count": 33,
   "id": "5e074e83",
   "metadata": {},
   "outputs": [
    {
     "name": "stdout",
     "output_type": "stream",
     "text": [
      "Index of C++: 2\n"
     ]
    }
   ],
   "source": [
    "# Find the index of \"C++\"\n",
    "languages = [\"Python\", \"Java\", \"C++\", \"Ruby\", \"Go\"]\n",
    "cpp_index = languages.index(\"C++\")\n",
    "print(\"Index of C++:\", cpp_index)\n"
   ]
  },
  {
   "cell_type": "markdown",
   "id": "fa3de712",
   "metadata": {},
   "source": [
    "## Create Dictionary"
   ]
  },
  {
   "cell_type": "code",
   "execution_count": 35,
   "id": "1df13994",
   "metadata": {},
   "outputs": [
    {
     "name": "stdout",
     "output_type": "stream",
     "text": [
      "{'name': 'Alice', 'age': 25, 'city': 'New York'}\n"
     ]
    }
   ],
   "source": [
    "# Create a dictionary\n",
    "person = {\"name\": \"Alice\", \"age\": 25, \"city\": \"New York\"}\n",
    "print(person)"
   ]
  },
  {
   "cell_type": "code",
   "execution_count": 36,
   "id": "1c2175af",
   "metadata": {},
   "outputs": [
    {
     "name": "stdout",
     "output_type": "stream",
     "text": [
      "City: New York\n"
     ]
    }
   ],
   "source": [
    "# Access and print the value of \"city\"\n",
    "city_value = person[\"city\"]\n",
    "print(\"City:\", city_value)"
   ]
  },
  {
   "cell_type": "code",
   "execution_count": 37,
   "id": "c9f63bba",
   "metadata": {},
   "outputs": [
    {
     "name": "stdout",
     "output_type": "stream",
     "text": [
      "{'name': 'Alice', 'age': 30, 'city': 'New York'}\n"
     ]
    }
   ],
   "source": [
    "# Update the value of \"age\"\n",
    "person[\"age\"] = 30\n",
    "print(person) "
   ]
  },
  {
   "cell_type": "code",
   "execution_count": 38,
   "id": "814d6196",
   "metadata": {},
   "outputs": [
    {
     "name": "stdout",
     "output_type": "stream",
     "text": [
      "{'name': 'Alice', 'age': 30, 'city': 'New York', 'country': 'USA'}\n"
     ]
    }
   ],
   "source": [
    "# Add a new key \"country\" with value \"USA\"\n",
    "person[\"country\"] = \"USA\"\n",
    "print(person)"
   ]
  },
  {
   "cell_type": "code",
   "execution_count": 39,
   "id": "61db7383",
   "metadata": {},
   "outputs": [
    {
     "name": "stdout",
     "output_type": "stream",
     "text": [
      "{'name': 'Alice', 'age': 30, 'country': 'USA'}\n"
     ]
    }
   ],
   "source": [
    "# Remove the \"city\" key\n",
    "person.pop(\"city\")\n",
    "print(person)"
   ]
  },
  {
   "cell_type": "code",
   "execution_count": 40,
   "id": "ef077e83",
   "metadata": {},
   "outputs": [
    {
     "name": "stdout",
     "output_type": "stream",
     "text": [
      "Key 'name' exists.\n"
     ]
    }
   ],
   "source": [
    "# Check if the key \"name\" exists\n",
    "if \"name\" in person:\n",
    "    print(\"Key 'name' exists.\")\n",
    "else:\n",
    "    print(\"Key 'name' does not exist.\")"
   ]
  },
  {
   "cell_type": "code",
   "execution_count": 41,
   "id": "76e93217",
   "metadata": {},
   "outputs": [
    {
     "name": "stdout",
     "output_type": "stream",
     "text": [
      "name: Alice\n",
      "age: 30\n",
      "country: USA\n"
     ]
    }
   ],
   "source": [
    "# Iterate over the dictionary\n",
    "for key, value in person.items():\n",
    "    print(f\"{key}: {value}\")"
   ]
  },
  {
   "cell_type": "code",
   "execution_count": 42,
   "id": "1a5a4069",
   "metadata": {},
   "outputs": [
    {
     "name": "stdout",
     "output_type": "stream",
     "text": [
      "{'x': 1, 'y': 3, 'z': 4}\n"
     ]
    }
   ],
   "source": [
    "# Merge two dictionaries\n",
    "dict1 = {\"x\": 1, \"y\": 2}\n",
    "dict2 = {\"y\": 3, \"z\": 4}\n",
    "merged_dict = {**dict1, **dict2}\n",
    "print(merged_dict)"
   ]
  },
  {
   "cell_type": "code",
   "execution_count": 43,
   "id": "3b03b94d",
   "metadata": {},
   "outputs": [
    {
     "name": "stdout",
     "output_type": "stream",
     "text": [
      "Keys: dict_keys(['Python', 'Java', 'C++'])\n",
      "Values: dict_values([1991, 1995, 1985])\n"
     ]
    }
   ],
   "source": [
    "# Print keys and values\n",
    "languages = {\"Python\": 1991, \"Java\": 1995, \"C++\": 1985}\n",
    "print(\"Keys:\", languages.keys())       \n",
    "print(\"Values:\", languages.values())  "
   ]
  },
  {
   "cell_type": "code",
   "execution_count": 44,
   "id": "63d7d59f",
   "metadata": {},
   "outputs": [
    {
     "name": "stdout",
     "output_type": "stream",
     "text": [
      "{1: 1, 2: 4, 3: 9, 4: 16, 5: 25}\n"
     ]
    }
   ],
   "source": [
    "# Create a dictionary using comprehension\n",
    "squares = {x: x**2 for x in range(1, 6)}\n",
    "print(squares)"
   ]
  },
  {
   "cell_type": "markdown",
   "id": "a8353d16",
   "metadata": {},
   "source": [
    "## Sets"
   ]
  },
  {
   "cell_type": "code",
   "execution_count": 1,
   "id": "afbfcc80",
   "metadata": {},
   "outputs": [
    {
     "name": "stdout",
     "output_type": "stream",
     "text": [
      "Set of colors: {'blue', 'green', 'red'}\n"
     ]
    }
   ],
   "source": [
    "# 1. Create and Print Set\n",
    "colors = {\"red\", \"green\", \"blue\"}\n",
    "print(\"Set of colors:\", colors)"
   ]
  },
  {
   "cell_type": "code",
   "execution_count": 2,
   "id": "cff718a6",
   "metadata": {},
   "outputs": [
    {
     "name": "stdout",
     "output_type": "stream",
     "text": [
      "After adding yellow: {'blue', 'green', 'red', 'yellow'}\n"
     ]
    }
   ],
   "source": [
    "# 2. Add Element\n",
    "colors.add(\"yellow\")\n",
    "print(\"After adding yellow:\", colors)"
   ]
  },
  {
   "cell_type": "code",
   "execution_count": 3,
   "id": "23d79e4d",
   "metadata": {},
   "outputs": [
    {
     "name": "stdout",
     "output_type": "stream",
     "text": [
      "After removing green: {'blue', 'red', 'yellow'}\n"
     ]
    }
   ],
   "source": [
    "# 3. Remove Element\n",
    "colors.remove(\"green\")\n",
    "print(\"After removing green:\", colors)"
   ]
  },
  {
   "cell_type": "code",
   "execution_count": 4,
   "id": "dcd77dec",
   "metadata": {},
   "outputs": [
    {
     "name": "stdout",
     "output_type": "stream",
     "text": [
      "Is 'blue' in the set?: True\n"
     ]
    }
   ],
   "source": [
    "# 4. Check Membership\n",
    "is_blue_in_set = \"blue\" in colors\n",
    "print(\"Is 'blue' in the set?:\", is_blue_in_set)"
   ]
  },
  {
   "cell_type": "code",
   "execution_count": 5,
   "id": "d774a341",
   "metadata": {},
   "outputs": [
    {
     "name": "stdout",
     "output_type": "stream",
     "text": [
      "Union of sets: {1, 2, 3, 4, 5}\n"
     ]
    }
   ],
   "source": [
    "# 5. Union of Sets\n",
    "set1 = {1, 2, 3}\n",
    "set2 = {3, 4, 5}\n",
    "union_set = set1.union(set2)\n",
    "print(\"Union of sets:\", union_set)"
   ]
  },
  {
   "cell_type": "code",
   "execution_count": 6,
   "id": "f205105d",
   "metadata": {},
   "outputs": [
    {
     "name": "stdout",
     "output_type": "stream",
     "text": [
      "Intersection of sets: {3}\n"
     ]
    }
   ],
   "source": [
    "# 6. Intersection of Sets\n",
    "intersection_set = set1.intersection(set2)\n",
    "print(\"Intersection of sets:\", intersection_set)"
   ]
  },
  {
   "cell_type": "code",
   "execution_count": 7,
   "id": "1c750da8",
   "metadata": {},
   "outputs": [
    {
     "name": "stdout",
     "output_type": "stream",
     "text": [
      "Difference of sets (set1 - set2): {1, 2}\n"
     ]
    }
   ],
   "source": [
    "# 7. Difference of Sets\n",
    "difference_set = set1.difference(set2)\n",
    "print(\"Difference of sets (set1 - set2):\", difference_set)"
   ]
  },
  {
   "cell_type": "code",
   "execution_count": 8,
   "id": "57418021",
   "metadata": {},
   "outputs": [
    {
     "name": "stdout",
     "output_type": "stream",
     "text": [
      "Length of the set {1, 2, 3, 4, 5}: 5\n"
     ]
    }
   ],
   "source": [
    "# 8. Set Length\n",
    "length_of_set = len({1, 2, 3, 4, 5})\n",
    "print(\"Length of the set {1, 2, 3, 4, 5}:\", length_of_set)"
   ]
  },
  {
   "cell_type": "code",
   "execution_count": 9,
   "id": "804554f4",
   "metadata": {},
   "outputs": [
    {
     "name": "stdout",
     "output_type": "stream",
     "text": [
      "Is {1, 2} a subset of {1, 2, 3, 4}?: True\n",
      "Is {1, 2, 3, 4} a superset of {1, 2}?: True\n"
     ]
    }
   ],
   "source": [
    "# 9. Set Operations\n",
    "subset_check = {1, 2}.issubset({1, 2, 3, 4})\n",
    "superset_check = {1, 2, 3, 4}.issuperset({1, 2})\n",
    "print(\"Is {1, 2} a subset of {1, 2, 3, 4}?:\", subset_check)\n",
    "print(\"Is {1, 2, 3, 4} a superset of {1, 2}?:\", superset_check)"
   ]
  },
  {
   "cell_type": "code",
   "execution_count": 10,
   "id": "b919216a",
   "metadata": {},
   "outputs": [
    {
     "name": "stdout",
     "output_type": "stream",
     "text": [
      "Set after removing duplicates: {1, 2, 3, 4}\n"
     ]
    }
   ],
   "source": [
    "# 10. Convert List to Set\n",
    "list_with_duplicates = [1, 2, 2, 3, 4, 4]\n",
    "unique_set = set(list_with_duplicates)\n",
    "print(\"Set after removing duplicates:\", unique_set)\n"
   ]
  }
 ],
 "metadata": {
  "kernelspec": {
   "display_name": "Python 3 (ipykernel)",
   "language": "python",
   "name": "python3"
  },
  "language_info": {
   "codemirror_mode": {
    "name": "ipython",
    "version": 3
   },
   "file_extension": ".py",
   "mimetype": "text/x-python",
   "name": "python",
   "nbconvert_exporter": "python",
   "pygments_lexer": "ipython3",
   "version": "3.9.13"
  }
 },
 "nbformat": 4,
 "nbformat_minor": 5
}
